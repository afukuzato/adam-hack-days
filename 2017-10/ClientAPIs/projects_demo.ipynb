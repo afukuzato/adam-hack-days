{
 "cells": [
  {
   "cell_type": "markdown",
   "metadata": {},
   "source": [
    "### This notebook demonstrates use of the Projects module to access and manipulate projects in ADAM"
   ]
  },
  {
   "cell_type": "code",
   "execution_count": null,
   "metadata": {},
   "outputs": [],
   "source": [
    "from adam import Projects\n",
    "from adam import RestRequests\n",
    "from adam import AuthorizingRestProxy\n",
    "import time\n",
    "import os"
   ]
  },
  {
   "cell_type": "markdown",
   "metadata": {},
   "source": [
    "This sets up authorized access to the server. It needs to be done before pretty much everything you want to do with ADAM."
   ]
  },
  {
   "cell_type": "code",
   "execution_count": null,
   "metadata": {},
   "outputs": [],
   "source": [
    "url = \"https://pro-equinox-162418.appspot.com/_ah/api/adam/v1\"\n",
    " # Reads your token from a file in current directory. For instructions on getting a token, see auth_demo notebook.\n",
    "token = open(os.getcwd() + '/token.txt').read()\n",
    "auth_rest = AuthorizingRestProxy(RestRequests(url), token)"
   ]
  },
  {
   "cell_type": "markdown",
   "metadata": {},
   "source": [
    "This demonstrates manipulation of projects using the Projects module.\n",
    "\n",
    "It does the following:\n",
    "1. creates a new project under the catch-all project\n",
    "2. creates a second new project under the first new project\n",
    "3. prints out all the projects you can access, which should include the two just created\n",
    "4. cleans up by deleting the created projects"
   ]
  },
  {
   "cell_type": "code",
   "execution_count": null,
   "metadata": {},
   "outputs": [],
   "source": [
    "projects = Projects(auth_rest)\n",
    "project = projects.new_project('ffffffff-ffff-ffff-ffff-ffffffffffff', None, \"parent\")\n",
    "child = projects.new_project(project.get_uuid(), None, \"child\")\n",
    "print('Current projects, including newly-created parent and child:')\n",
    "projects.print_projects()\n",
    "projects.delete_project(child.get_uuid())\n",
    "projects.delete_project(project.get_uuid())"
   ]
  },
  {
   "cell_type": "code",
   "execution_count": null,
   "metadata": {},
   "outputs": [],
   "source": []
  }
 ],
 "metadata": {
  "kernelspec": {
   "display_name": "Python 3",
   "language": "python",
   "name": "python3"
  },
  "language_info": {
   "codemirror_mode": {
    "name": "ipython",
    "version": 3
   },
   "file_extension": ".py",
   "mimetype": "text/x-python",
   "name": "python",
   "nbconvert_exporter": "python",
   "pygments_lexer": "ipython3",
   "version": "3.6.4"
  }
 },
 "nbformat": 4,
 "nbformat_minor": 2
}
