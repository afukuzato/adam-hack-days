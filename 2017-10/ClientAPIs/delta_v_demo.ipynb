{
 "cells": [
  {
   "cell_type": "markdown",
   "metadata": {},
   "source": [
    "## This notebook demonstrates how to propagate an orbit back in time, then compute a state transition matrix on the forward propagation"
   ]
  },
  {
   "cell_type": "code",
   "execution_count": null,
   "metadata": {},
   "outputs": [],
   "source": [
    "from adam import Batch\n",
    "from adam import PropagationParams\n",
    "from adam import OpmParams\n",
    "from adam import BatchRunManager\n",
    "from adam import Service\n",
    "from adam import StmPropagationModule\n",
    "\n",
    "import os\n",
    "\n",
    "import datetime\n",
    "import tabulate\n",
    "\n",
    "import numpy as np\n",
    "import numpy.testing as npt"
   ]
  },
  {
   "cell_type": "markdown",
   "metadata": {},
   "source": [
    "This sets up a Service which uses the given token and URL to provide authorized access through the server through several wrapped modules. It also creates a project for you to work in that will be used for the rest of the notebook. Be sure to run service.teardown() when finished. \n",
    "\n",
    "If you don't have a token, see auth_demo to get one.\n",
    "\n",
    "Normally instead of 'ffffffff-ffff-ffff-ffff-ffffffffffff' you would use your team workspace project that was made for you by the ADAM team."
   ]
  },
  {
   "cell_type": "code",
   "execution_count": null,
   "metadata": {},
   "outputs": [],
   "source": [
    "url = \"https://pro-equinox-162418.appspot.com/_ah/api/adam/v1\"\n",
    " # Reads your token from a file in current directory. For instructions on getting a token, see auth_demo notebook.\n",
    "token = open(os.getcwd() + '/token.txt').read()\n",
    "service = Service()\n",
    "service.setup(url, token, 'ffffffff-ffff-ffff-ffff-ffffffffffff')\n",
    "working_project = service.get_working_project()"
   ]
  },
  {
   "cell_type": "markdown",
   "metadata": {},
   "source": [
    "### Definitions\n",
    "\n",
    "Following are definitions of all the parameters we would like to use, including regarding the asteroid, its location, and the times we want to use in our propagations."
   ]
  },
  {
   "cell_type": "code",
   "execution_count": null,
   "metadata": {},
   "outputs": [],
   "source": [
    "asteroid_params = {\n",
    "    'mass': 500.5,              # object mass\n",
    "    'solar_rad_area': 25.2,     # object solar radiation area (m^2)\n",
    "    'solar_rad_coeff': 1.2,     # object solar radiation coefficient\n",
    "    'drag_area': 33.3,          # object drag area (m^2)\n",
    "    'drag_coeff': 2.5,          # object drag coefficient\n",
    "    'object_name': 'KillerAsteroid'\n",
    "}\n",
    "\n",
    "initial_state_vector = [1.9614856544727500000e7,\n",
    "                        1.4843205548512800000e8,\n",
    "                        5.5892860024181600000e7,\n",
    "                        -28.4909386978969000000,\n",
    "                        -5.3762767683990300000,\n",
    "                        2.5848941723961300000]\n",
    "\n",
    "propagation_time = 50 * 365 * 24 * 60 * 60  # 50 years in seconds.\n",
    "\n",
    "now = datetime.datetime(2018, 2, 21, 0, 0, 0, 123456)\n",
    "fifty_years_ago = now - datetime.timedelta(seconds=propagation_time)"
   ]
  },
  {
   "cell_type": "markdown",
   "metadata": {},
   "source": [
    "### Backwards propagation\n",
    "\n",
    "This creates and runs a propagation backwards 50 years from now."
   ]
  },
  {
   "cell_type": "code",
   "execution_count": null,
   "metadata": {},
   "outputs": [],
   "source": [
    "backwards_propagation = Batch(PropagationParams({\n",
    "    'start_time': now.isoformat() + 'Z',\n",
    "    'end_time': fifty_years_ago.isoformat() + 'Z',\n",
    "    'step_size': 0,  # Use adaptive step size.\n",
    "    'project_uuid': working_project.get_uuid(),\n",
    "}), OpmParams(dict(asteroid_params, **{\n",
    "    'epoch': now.isoformat() + 'Z',\n",
    "    'state_vector': initial_state_vector,\n",
    "})))\n",
    "\n",
    "batch_run_manager = BatchRunManager(service.get_batches_module(), [backwards_propagation])\n",
    "batch_run_manager.run();\n",
    "\n",
    "# Should be 'COMPLETED'.\n",
    "print('Finished backwards propagation in state %s' % (backwards_propagation.get_calc_state()))\n",
    "state_vector_fifty_years_ago = backwards_propagation.get_results().get_end_state_vector()\n",
    "print('State vector fifty years ago: %s' % state_vector_fifty_years_ago)"
   ]
  },
  {
   "cell_type": "markdown",
   "metadata": {},
   "source": [
    "TODO(laura): This is actually not true because python notebooks do not run cells simultaneously. There are ways to make this work. Do it.\n",
    "\n",
    "In case you're curious, you can run the following to get the state of your runs (in this case only backwards_propagation) while running."
   ]
  },
  {
   "cell_type": "code",
   "execution_count": null,
   "metadata": {},
   "outputs": [],
   "source": [
    "status = batch_run_manager.get_latest_statuses()\n",
    "status_counts = [[s, len(status[s])] for s in status]\n",
    "print(tabulate.tabulate(status_counts, headers=\"\", tablefmt=\"fancy_grid\"))"
   ]
  },
  {
   "cell_type": "markdown",
   "metadata": {},
   "source": [
    "### STM calculation\n",
    "\n",
    "Now that we know where this asteroid was 50 years ago, let's propagate forward using the STM module to compute a state transition matrix that we can use in our delta-V calculations."
   ]
  },
  {
   "cell_type": "code",
   "execution_count": null,
   "metadata": {},
   "outputs": [],
   "source": [
    "forwards_propagation_params = PropagationParams({\n",
    "    'start_time': fifty_years_ago.isoformat() + 'Z',\n",
    "    'end_time': now.isoformat() + 'Z',\n",
    "    'step_size': 0,  # Use adaptive step size.\n",
    "    'project_uuid': working_project.get_uuid(),\n",
    "})\n",
    "forwards_opm_params = OpmParams(dict(asteroid_params, **{\n",
    "    'epoch': fifty_years_ago.isoformat() + 'Z',\n",
    "    'state_vector': state_vector_fifty_years_ago,  # This will be nudged to compute the STM.\n",
    "}))\n",
    "\n",
    "stm_propagator = StmPropagationModule(service.get_batches_module())\n",
    "now_state_vector, stm = stm_propagator.run_stm_propagation(forwards_propagation_params, forwards_opm_params)\n",
    "\n",
    "# We should have ended up quite close to the same position and velocity at which it started. Validate that.\n",
    "difference = np.subtract(now_state_vector, initial_state_vector)\n",
    "npt.assert_allclose(difference[0:3], [0, 0, 0], rtol=0, atol=1e-3)    # Allow 1m of change in position\n",
    "npt.assert_allclose(difference[3:6], [0, 0, 0], rtol=0, atol=1e-10)   # But only a tiny change in velocity\n",
    "\n",
    "# Now we have the state transition matrix!\n",
    "print(\"State transition matrix:\")\n",
    "print(stm)"
   ]
  },
  {
   "cell_type": "markdown",
   "metadata": {},
   "source": [
    "### Now what?\n",
    "\n",
    "Now that we have the state transition matrix, how do we compute delta-Vs? What should happen now? TODO(hackathon)"
   ]
  },
  {
   "cell_type": "code",
   "execution_count": null,
   "metadata": {},
   "outputs": [],
   "source": [
    "# Cleans up working project and any batches and runs that were made within that project.\n",
    "service.teardown()"
   ]
  },
  {
   "cell_type": "code",
   "execution_count": null,
   "metadata": {},
   "outputs": [],
   "source": []
  }
 ],
 "metadata": {
  "kernelspec": {
   "display_name": "Python 3",
   "language": "python",
   "name": "python3"
  },
  "language_info": {
   "codemirror_mode": {
    "name": "ipython",
    "version": 3
   },
   "file_extension": ".py",
   "mimetype": "text/x-python",
   "name": "python",
   "nbconvert_exporter": "python",
   "pygments_lexer": "ipython3",
   "version": "3.6.4"
  }
 },
 "nbformat": 4,
 "nbformat_minor": 2
}
