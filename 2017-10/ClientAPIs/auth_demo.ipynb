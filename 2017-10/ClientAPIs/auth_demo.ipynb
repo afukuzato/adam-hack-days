{
 "cells": [
  {
   "cell_type": "markdown",
   "metadata": {},
   "source": [
    "## Authorization demo\n",
    "\n",
    "This notebook demonstrates use of the Auth module to generate a token that can be passed to the ADAM REST server for access to API methods.\n",
    "\n",
    "Specifically, it demonstrates how to store a token in a local file for continued use, while using the Auth module to validate that token and generate new tokens as necessary."
   ]
  },
  {
   "cell_type": "code",
   "execution_count": null,
   "metadata": {},
   "outputs": [],
   "source": [
    "from adam import Auth\n",
    "from adam import RestRequests\n",
    "import os\n",
    "\n",
    "url = \"https://pro-equinox-162418.appspot.com/_ah/api/adam/v1\"\n",
    "rest = RestRequests(url)"
   ]
  },
  {
   "cell_type": "markdown",
   "metadata": {},
   "source": [
    "This demo uses a file in the current directory for both reading and writing the token, but you could use separate files for input and output, or not use a file to store your token at all!\n",
    "\n",
    "It attempts to authorize using the token in the file. If that fails, it tries to authorize anew. This is a flow that directs a user to a page where they can log in and get a token. Finally, it writes the token out to a file so it can be used next time!"
   ]
  },
  {
   "cell_type": "code",
   "execution_count": null,
   "metadata": {},
   "outputs": [],
   "source": [
    "auth = Auth(rest)"
   ]
  },
  {
   "cell_type": "code",
   "execution_count": null,
   "metadata": {},
   "outputs": [],
   "source": [
    "tokenFile = os.getcwd() + '/token.txt'\n",
    "# Opening with \"a+\" instead of \"r\" creates the file if it doesn't exist.\n",
    "with open(tokenFile, \"a+\") as f:\n",
    "    f.seek(0)\n",
    "    token = f.read()"
   ]
  },
  {
   "cell_type": "code",
   "execution_count": null,
   "metadata": {},
   "outputs": [],
   "source": [
    "try:\n",
    "    if not auth.authorize(token):\n",
    "        if auth.initial_authorization():\n",
    "            with open(tokenFile, \"w\") as f:\n",
    "                f.write(auth.get_token())\n",
    "except RuntimeError as e:\n",
    "    print('Encountered server error while attempting to authorize: ' + str(e))"
   ]
  },
  {
   "cell_type": "code",
   "execution_count": null,
   "metadata": {},
   "outputs": [],
   "source": [
    "if auth.get_token() == \"\":\n",
    "    print('Could not authorize user.')\n",
    "else:\n",
    "    print('Welcome, ' + auth.get_user())"
   ]
  },
  {
   "cell_type": "markdown",
   "metadata": {},
   "source": [
    "If non-empty, auth.get_token() can now be used for any API method requiring authorization."
   ]
  },
  {
   "cell_type": "code",
   "execution_count": null,
   "metadata": {},
   "outputs": [],
   "source": []
  }
 ],
 "metadata": {
  "kernelspec": {
   "display_name": "Python 3",
   "language": "python",
   "name": "python3"
  },
  "language_info": {
   "codemirror_mode": {
    "name": "ipython",
    "version": 3
   },
   "file_extension": ".py",
   "mimetype": "text/x-python",
   "name": "python",
   "nbconvert_exporter": "python",
   "pygments_lexer": "ipython3",
   "version": "3.6.4"
  }
 },
 "nbformat": 4,
 "nbformat_minor": 2
}
